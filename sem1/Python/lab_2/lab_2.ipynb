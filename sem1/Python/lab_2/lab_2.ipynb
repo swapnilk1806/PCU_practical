{
 "cells": [
  {
   "cell_type": "code",
   "execution_count": 3,
   "id": "7d86387c-201f-4a81-8875-55dc3d15c563",
   "metadata": {},
   "outputs": [
    {
     "name": "stdin",
     "output_type": "stream",
     "text": [
      "Enter 1st Number :  45\n",
      "Enter 2nd Number :  4\n",
      "Enter 3rd Number :  8\n"
     ]
    },
    {
     "name": "stdout",
     "output_type": "stream",
     "text": [
      "Avg Three Numbers :  19.0\n"
     ]
    }
   ],
   "source": [
    "\"\"\"Arithmetic operators\"\"\"\"\n",
    "\n",
    "## 1.\n",
    "num1 = int(input(\"Enter 1st Number : \"))\n",
    "num2 = int(input(\"Enter 2nd Number : \"))\n",
    "num3 = int(input(\"Enter 3rd Number : \"))\n",
    "\n",
    "avg = (num1+num2+num3)/3\n",
    "print(\"Avg Three Numbers : \",avg)"
   ]
  },
  {
   "cell_type": "code",
   "execution_count": 4,
   "id": "4d10fce3-6b51-4a5a-a908-cf0c5556ad7f",
   "metadata": {},
   "outputs": [
    {
     "name": "stdin",
     "output_type": "stream",
     "text": [
      "Enter radious :  45\n"
     ]
    },
    {
     "name": "stdout",
     "output_type": "stream",
     "text": [
      "Area is :  6358.500000000001\n",
      "Circumference :  282.6\n"
     ]
    }
   ],
   "source": [
    "##2\n",
    "\n",
    "radious = int(input(\"Enter radious : \"))\n",
    "area = 3.14 * radious * radious\n",
    "circumference = 2 * 3.14 * radious\n",
    "\n",
    "print(\"Area is : \",area)\n",
    "print(\"Circumference : \",circumference)"
   ]
  },
  {
   "cell_type": "code",
   "execution_count": 5,
   "id": "710438c7-4268-4088-9972-6641678b7908",
   "metadata": {},
   "outputs": [
    {
     "name": "stdin",
     "output_type": "stream",
     "text": [
      "Enter Celsius :  10\n"
     ]
    },
    {
     "name": "stdout",
     "output_type": "stream",
     "text": [
      "fehreheit temp :  50.0\n"
     ]
    }
   ],
   "source": [
    "##3\n",
    "\n",
    "celsius = int(input(\"Enter Celsius : \"))\n",
    "fehreheit = (celsius * 9/5) + 32\n",
    "print(\"fehreheit temp : \",fehreheit)"
   ]
  },
  {
   "cell_type": "code",
   "execution_count": null,
   "id": "3ef622b0-ae54-4239-b935-5b4c6017e4be",
   "metadata": {},
   "outputs": [],
   "source": [
    "##4\n",
    "\n",
    "simple_i = int(input(\"Enter Ammount : \"))\n",
    "SI = ()"
   ]
  },
  {
   "cell_type": "code",
   "execution_count": 6,
   "id": "9c99d40e-68d1-468c-861d-6d5dcd8a0596",
   "metadata": {},
   "outputs": [
    {
     "name": "stdin",
     "output_type": "stream",
     "text": [
      "Enter 1st Numbers :  10\n",
      "Enter 2nd Numbers :  45\n"
     ]
    },
    {
     "name": "stdout",
     "output_type": "stream",
     "text": [
      "num1 > num2 :  False\n",
      "num1 >= num2 :  False\n",
      "num1 < num2 :  True\n",
      "num1 <= num2 :  True\n"
     ]
    }
   ],
   "source": [
    "'''Relationl Operators'''\n",
    "\n",
    "##5\n",
    "\n",
    "num1 = int(input(\"Enter 1st Numbers : \"))\n",
    "num2 = int(input(\"Enter 2nd Numbers : \"))\n",
    "\n",
    "print(\"num1 > num2 : \",num1 > num2)\n",
    "print(\"num1 >= num2 : \",num1 >= num2)\n",
    "print(\"num1 < num2 : \",num1 < num2)\n",
    "print(\"num1 <= num2 : \",num1 <= num2)"
   ]
  },
  {
   "cell_type": "code",
   "execution_count": 7,
   "id": "fe00ddea-0f77-453a-9e46-95d05dbebc3f",
   "metadata": {},
   "outputs": [
    {
     "name": "stdin",
     "output_type": "stream",
     "text": [
      "Enter 1st Numbers :  10\n",
      "Enter 2nd Numbers :  4\n"
     ]
    },
    {
     "name": "stdout",
     "output_type": "stream",
     "text": [
      "Both number are not same\n"
     ]
    }
   ],
   "source": [
    "#6\n",
    "\n",
    "num1 = int(input(\"Enter 1st Numbers : \"))\n",
    "num2 = int(input(\"Enter 2nd Numbers : \"))\n",
    "\n",
    "if num1 == num2:\n",
    "    print(\"Both number are same\")\n",
    "\n",
    "if num1 != num2:\n",
    "    print(\"Both number are not same\")"
   ]
  },
  {
   "cell_type": "code",
   "execution_count": 8,
   "id": "c300e768-6248-42a2-b00e-c6b0c1522953",
   "metadata": {},
   "outputs": [
    {
     "name": "stdin",
     "output_type": "stream",
     "text": [
      "Enter 1st Numbers :  85\n",
      "Enter 2nd Numbers :  56\n",
      "Enter 3rd Numbers :  100\n"
     ]
    },
    {
     "name": "stdout",
     "output_type": "stream",
     "text": [
      "Greater number is :  100\n"
     ]
    }
   ],
   "source": [
    "#6\n",
    "\n",
    "num1 = int(input(\"Enter 1st Numbers : \"))\n",
    "num2 = int(input(\"Enter 2nd Numbers : \"))\n",
    "num3 = int(input(\"Enter 3rd Numbers : \"))\n",
    "\n",
    "if num1 > num2:\n",
    "    if num1 >num3:\n",
    "        print(\"Greater Number is : \",num1)\n",
    "    else:\n",
    "        print(\"Greater number is : \",num3)\n",
    "else:\n",
    "    if num3 > num2:\n",
    "        print(\"Greater number is : \",num3)\n",
    "    else:\n",
    "        print(\"Greater number is : \",num2)"
   ]
  },
  {
   "cell_type": "code",
   "execution_count": 2,
   "id": "8ad8a67d-42d6-4945-a959-226788c553c3",
   "metadata": {},
   "outputs": [
    {
     "name": "stdin",
     "output_type": "stream",
     "text": [
      "Enter Numbers :  10\n"
     ]
    },
    {
     "name": "stdout",
     "output_type": "stream",
     "text": [
      "val += num :  110\n",
      "val -= num :  100\n",
      "val *= num :  1000\n",
      "val /= num :  100.0\n",
      "val %= num :  0.0\n"
     ]
    }
   ],
   "source": [
    "'''Assigment Operators'''\n",
    "\n",
    "## 8\n",
    "val = 100\n",
    "num = int(input(\"Enter Numbers : \"))\n",
    "val += num\n",
    "print(\"val += num : \",val)\n",
    "val -= num\n",
    "print(\"val -= num : \",val)\n",
    "val *= num\n",
    "print(\"val *= num : \",val)\n",
    "val /= num\n",
    "print(\"val /= num : \",val)\n",
    "val %= num\n",
    "print(\"val %= num : \",val)"
   ]
  },
  {
   "cell_type": "code",
   "execution_count": null,
   "id": "6810d372-8a86-4b77-a2d1-04e7323c9ede",
   "metadata": {},
   "outputs": [],
   "source": [
    "'''Logical Operators '''\n",
    "\n",
    "## 9\n",
    "num1 = int(input(\"Enter 1st Numbers : \"))\n",
    "num2 = int(input(\"Enter 2nd Numbers : \"))\n",
    "num3 = int(input(\"Enter 3rd Numbers : \")) \n",
    "\n",
    "if num1 and num2 or num3:\n",
    "    "
   ]
  },
  {
   "cell_type": "code",
   "execution_count": 6,
   "id": "fd8bb7d8-168d-409c-8bf8-26450e68f02a",
   "metadata": {},
   "outputs": [
    {
     "name": "stdin",
     "output_type": "stream",
     "text": [
      "Enter 1st Numbers :  50\n",
      "Enter 2nd Numbers :  12\n"
     ]
    },
    {
     "name": "stdout",
     "output_type": "stream",
     "text": [
      "50 | 12 = 62\n",
      "50 ^ 12 = 62\n",
      " ~ 12 = -13\n"
     ]
    }
   ],
   "source": [
    "'''Bitwise Operators '''\n",
    "\n",
    "## 10\n",
    "num1 = int(input(\"Enter 1st Numbers : \"))\n",
    "num2 = int(input(\"Enter 2nd Numbers : \")) \n",
    "\n",
    "if num1 & num2:\n",
    "    print(f\"{num1} & {num2} = {num1&num2}\")\n",
    "if num1 | num2:\n",
    "    print(f\"{num1} | {num2} = {num1|num2}\")\n",
    "if num1 ^ num2:\n",
    "    print(f\"{num1} ^ {num2} = {num1^num2}\")\n",
    "if  ~num2:\n",
    "    print(f\" ~ {num2} = {~num2}\")"
   ]
  },
  {
   "cell_type": "code",
   "execution_count": 8,
   "id": "51f8cd50-705f-4f68-83f2-2030d3305c3e",
   "metadata": {},
   "outputs": [
    {
     "name": "stdin",
     "output_type": "stream",
     "text": [
      "Enter 1st Numbers :  10\n",
      "Enter how many bit shift  :  5\n"
     ]
    },
    {
     "name": "stdout",
     "output_type": "stream",
     "text": [
      "10 >> 5 : 0\n",
      "10 << 5 : 320\n"
     ]
    }
   ],
   "source": [
    "## 11\n",
    "\n",
    "num1 = int(input(\"Enter 1st Numbers : \"))\n",
    "num2 = int(input(\"Enter how many bit shift  : \"))\n",
    "\n",
    "print(f\"{num1} >> {num2 } : {num1 >> num2}\")\n",
    "print(f\"{num1} << {num2 } : {num1 << num2}\")"
   ]
  },
  {
   "cell_type": "code",
   "execution_count": 11,
   "id": "a3d45105-bd63-4360-9d69-c792622d3e89",
   "metadata": {},
   "outputs": [
    {
     "name": "stdin",
     "output_type": "stream",
     "text": [
      "Enter 1st Numbers :  10\n"
     ]
    },
    {
     "name": "stdout",
     "output_type": "stream",
     "text": [
      " Numbmer is present in list : False\n",
      " Numbmer is not present in list : True\n"
     ]
    }
   ],
   "source": [
    "'''Membership Operators '''\n",
    "\n",
    "##12\n",
    "\n",
    "list = [1,2,3,4,5,6,7,8,9]\n",
    "num1 = int(input(\"Enter 1st Numbers : \"))\n",
    "\n",
    "print(f\" Numbmer is present in list : {num1 is list}\")\n",
    "print(f\" Numbmer is not present in list : {num1 is not list}\")"
   ]
  },
  {
   "cell_type": "code",
   "execution_count": 12,
   "id": "299418ea-b6ee-45f5-b6f5-5057acd30b8e",
   "metadata": {},
   "outputs": [
    {
     "name": "stdin",
     "output_type": "stream",
     "text": [
      "Enter 1st Numbers :  52\n",
      "Enter 2nd Numbers :  12\n"
     ]
    },
    {
     "name": "stdout",
     "output_type": "stream",
     "text": [
      "Two variable not same object\n"
     ]
    }
   ],
   "source": [
    "'''Identity Operators '''\n",
    "\n",
    "#13\n",
    "\n",
    "num1 = int(input(\"Enter 1st Numbers : \"))\n",
    "num2 = int(input(\"Enter 2nd Numbers : \"))\n",
    "\n",
    "if num1 is num2:\n",
    "    print(f\"Two variable in same object\")\n",
    "\n",
    "if num1 is not num2:\n",
    "    print(f\"Two variable not same object\")"
   ]
  },
  {
   "cell_type": "code",
   "execution_count": null,
   "id": "07e3f526-e47e-4ffb-bd38-6f2fff49f64a",
   "metadata": {},
   "outputs": [],
   "source": []
  }
 ],
 "metadata": {
  "kernelspec": {
   "display_name": "Python 3 (ipykernel)",
   "language": "python",
   "name": "python3"
  },
  "language_info": {
   "codemirror_mode": {
    "name": "ipython",
    "version": 3
   },
   "file_extension": ".py",
   "mimetype": "text/x-python",
   "name": "python",
   "nbconvert_exporter": "python",
   "pygments_lexer": "ipython3",
   "version": "3.11.4"
  }
 },
 "nbformat": 4,
 "nbformat_minor": 5
}
