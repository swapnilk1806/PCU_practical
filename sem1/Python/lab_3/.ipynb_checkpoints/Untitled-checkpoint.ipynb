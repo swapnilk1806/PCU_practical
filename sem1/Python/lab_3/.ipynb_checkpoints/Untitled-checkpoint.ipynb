{
 "cells": [
  {
   "cell_type": "raw",
   "id": "a76e5264-310c-4a3e-b23d-a5ab210fc2e9",
   "metadata": {},
   "source": []
  },
  {
   "cell_type": "code",
   "execution_count": null,
   "id": "353a7c1c-4f0e-4cca-9618-74fc4cfbb007",
   "metadata": {},
   "outputs": [],
   "source": []
  },
  {
   "cell_type": "code",
   "execution_count": 1,
   "id": "806a7d7c-e33f-4692-a454-0ab40733eea9",
   "metadata": {},
   "outputs": [
    {
     "name": "stdout",
     "output_type": "stream",
     "text": [
      "Lowercase charectors: hello word!\n",
      "Uppercase Charectors: HELLO WORD!\n"
     ]
    }
   ],
   "source": [
    "name = \"Hello Word!\"\n",
    "print(\"Lowercase charectors: \"+ name.lower())\n",
    "print(\"Uppercase Charectors: \"+ name.upper())"
   ]
  },
  {
   "cell_type": "code",
   "execution_count": 5,
   "id": "f37b1bd5-abe3-42b4-a8e0-b153b213a2c3",
   "metadata": {},
   "outputs": [
    {
     "name": "stdout",
     "output_type": "stream",
     "text": [
      "Before Strig replace : PCU collage is best Education camp\n",
      "After string replace : PCU collage is good Education camp\n"
     ]
    }
   ],
   "source": [
    "string = \"PCU collage is best Education camp\"\n",
    "string1 = string.replace(\"best\",\"good\")\n",
    "print(\"Before Strig replace : \"+string)\n",
    "print(\"After string replace : \"+string1)"
   ]
  },
  {
   "cell_type": "code",
   "execution_count": null,
   "id": "df598a10-9af7-4a75-833f-3a30fde14eab",
   "metadata": {},
   "outputs": [],
   "source": []
  },
  {
   "cell_type": "code",
   "execution_count": null,
   "id": "2b15fd3a-3294-4391-9739-9471c7c1be7d",
   "metadata": {},
   "outputs": [],
   "source": []
  },
  {
   "cell_type": "code",
   "execution_count": null,
   "id": "266507de-b1ce-4e1c-a70c-cd7b7119a96e",
   "metadata": {},
   "outputs": [],
   "source": []
  },
  {
   "cell_type": "code",
   "execution_count": null,
   "id": "fa00de1d-2775-4019-8001-39facbd50352",
   "metadata": {},
   "outputs": [],
   "source": []
  }
 ],
 "metadata": {
  "kernelspec": {
   "display_name": "Python 3 (ipykernel)",
   "language": "python",
   "name": "python3"
  },
  "language_info": {
   "codemirror_mode": {
    "name": "ipython",
    "version": 3
   },
   "file_extension": ".py",
   "mimetype": "text/x-python",
   "name": "python",
   "nbconvert_exporter": "python",
   "pygments_lexer": "ipython3",
   "version": "3.11.4"
  }
 },
 "nbformat": 4,
 "nbformat_minor": 5
}
