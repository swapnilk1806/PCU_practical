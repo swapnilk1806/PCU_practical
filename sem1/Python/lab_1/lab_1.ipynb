{
 "cells": [
  {
   "cell_type": "code",
   "execution_count": null,
   "id": "7fc7ef6f-6f43-4d94-8a82-273bcbcfefcf",
   "metadata": {},
   "outputs": [],
   "source": [
    "\n",
    "## 2\n",
    "\n"
   ]
  },
  {
   "cell_type": "code",
   "execution_count": 2,
   "id": "22f94905-a592-4c90-9124-a781b285e2c0",
   "metadata": {},
   "outputs": [
    {
     "name": "stdin",
     "output_type": "stream",
     "text": [
      "Enter 1st Numbers :  10\n",
      "Enter 2nd Numbers :  20\n"
     ]
    },
    {
     "name": "stdout",
     "output_type": "stream",
     "text": [
      "10 + 20 : 30\n",
      "10 - 20 : -10\n",
      "10 * 20 : 200\n",
      "10 / 20 : 0.5\n"
     ]
    }
   ],
   "source": [
    " \n",
    "## 3\n",
    "\n",
    "num1 = int(input(\"Enter 1st Numbers : \"))\n",
    "num2 = int(input(\"Enter 2nd Numbers : \"))\n",
    "\n",
    "print(f\"{num1} + {num2} : {num1+num2}\")\n",
    "print(f\"{num1} - {num2} : {num1-num2}\")\n",
    "print(f\"{num1} * {num2} : {num1*num2}\")\n",
    "print(f\"{num1} / {num2} : {num1/num2}\")\n"
   ]
  },
  {
   "cell_type": "code",
   "execution_count": 3,
   "id": "84cdd070-53c7-4688-980b-ea7e977fddbd",
   "metadata": {
    "scrolled": true
   },
   "outputs": [
    {
     "name": "stdin",
     "output_type": "stream",
     "text": [
      "Enter 1st Numbers :  15\n",
      "Enter 2nd Numbers :  20\n"
     ]
    },
    {
     "name": "stdout",
     "output_type": "stream",
     "text": [
      "Before swaping two number with third number \n",
      "num1 : 15 || num2 : 20\n",
      "After swaping two number with third number \n",
      "num1 : 20 || num2 : 15\n",
      "-------------------------------\n",
      "Before swaping two number without third number \n",
      "num1 : 20 || num2 : 15\n",
      "After swaping two number without third number \n",
      "num1 : 15 || num2 : 20\n"
     ]
    }
   ],
   "source": [
    "\n",
    "## 4\n",
    "\n",
    "num1 = int(input(\"Enter 1st Numbers : \"))\n",
    "num2 = int(input(\"Enter 2nd Numbers : \"))\n",
    "\n",
    "print(\"Before swaping two number with third number \")\n",
    "print(f\"num1 : {num1} || num2 : {num2}\")\n",
    "temp = num1 \n",
    "num1 = num2\n",
    "num2 = temp\n",
    "print(\"After swaping two number with third number \")\n",
    "print(f\"num1 : {num1} || num2 : {num2}\")\n",
    "print(\"-------------------------------\")\n",
    "print(\"Before swaping two number without third number \")\n",
    "print(f\"num1 : {num1} || num2 : {num2}\")\n",
    "num1 ,num2 = num2,num1\n",
    "print(\"After swaping two number without third number \")\n",
    "print(f\"num1 : {num1} || num2 : {num2}\")"
   ]
  },
  {
   "cell_type": "code",
   "execution_count": 6,
   "id": "8cb3c3de-cd43-4f1d-bae4-b1d486152d89",
   "metadata": {},
   "outputs": [
    {
     "name": "stdin",
     "output_type": "stream",
     "text": [
      "Enter Length :  10\n",
      "Enter Breadth :  50\n"
     ]
    },
    {
     "name": "stdout",
     "output_type": "stream",
     "text": [
      "Area is : 500\n"
     ]
    }
   ],
   "source": [
    " ## 5\n",
    "\n",
    "len = int(input(\"Enter Length : \"))\n",
    "breadth = int(input(\"Enter Breadth : \"))\n",
    "\n",
    "print(f\"Area is : {len*breadth}\")"
   ]
  },
  {
   "cell_type": "code",
   "execution_count": 8,
   "id": "19893bdf-3d9d-45d6-a657-45379c7b6b8e",
   "metadata": {},
   "outputs": [
    {
     "name": "stdout",
     "output_type": "stream",
     "text": [
      "Integer :  10\n",
      "Float :  10.5\n",
      "Complex :  (10+20j)\n",
      "bool :  True\n",
      "String :  Hello , python\n"
     ]
    }
   ],
   "source": [
    "'''Fundamental Data Types'''\n",
    "\n",
    "## 6\n",
    "\n",
    "int_var = 10\n",
    "print(\"Integer : \",int_var)\n",
    "\n",
    "float_var = 10.5\n",
    "print(\"Float : \",float_var)\n",
    "\n",
    "complex_var = 10 + 20j\n",
    "print(\"Complex : \",complex_var)\n",
    "\n",
    "bool_var = True\n",
    "print(\"bool : \",bool_var)\n",
    "\n",
    "string_var = \"Hello , python\"\n",
    "print(\"String : \",string_var)"
   ]
  },
  {
   "cell_type": "code",
   "execution_count": 9,
   "id": "9a90db4f-a9c6-44b2-9f12-46c24e1acfe0",
   "metadata": {},
   "outputs": [
    {
     "name": "stdin",
     "output_type": "stream",
     "text": [
      "Enter 1st String :  swapnil\n",
      "Enter 2nd String :  kadam\n"
     ]
    },
    {
     "name": "stdout",
     "output_type": "stream",
     "text": [
      "Concatenate : swapnil + kadam : swapnilkadam\n"
     ]
    }
   ],
   "source": [
    "\n",
    "## 7\n",
    "string1 = input(\"Enter 1st String : \")\n",
    "string2 = input(\"Enter 2nd String : \")\n",
    "\n",
    "print(f\"Concatenate : {string1} + {string2} : {string1+string2}\")"
   ]
  },
  {
   "cell_type": "code",
   "execution_count": 10,
   "id": "6954d0d1-6ac8-4ccd-8a12-e2f56e1b3aea",
   "metadata": {},
   "outputs": [
    {
     "name": "stdout",
     "output_type": "stream",
     "text": [
      "Initial value of bool var :  True\n",
      "Initial value of after bool var :  False\n",
      "Value of bool after changing back :  True\n"
     ]
    }
   ],
   "source": [
    "\n",
    "## 8\n",
    "bool_var = True\n",
    "print(\"Initial value of bool var : \",bool_var)\n",
    "\n",
    "bool_var = False\n",
    "print(\"Initial value of after bool var : \",bool_var)\n",
    "\n",
    "bool_var = True\n",
    "print(\"Value of bool after changing back : \",bool_var)"
   ]
  },
  {
   "cell_type": "code",
   "execution_count": 12,
   "id": "712a2fc9-a6cd-44b3-b797-6d308a3e72a0",
   "metadata": {},
   "outputs": [
    {
     "name": "stdout",
     "output_type": "stream",
     "text": [
      "Addtion :  (5+6j) + (4+7j) : (9+13j) \n",
      "Subtraction :  (5+6j) - (4+7j) : (1-1j) \n",
      "Multiplocation :  (5+6j) * (4+7j) : (-22+59j) \n",
      "Division :  (5+6j) / (4+7j) : (0.953846153846154-0.16923076923076927j) \n"
     ]
    }
   ],
   "source": [
    "\n",
    "## 9\n",
    "x = complex(5,6)\n",
    "y = complex(4,7)\n",
    "print(f\"Addtion :  {x} + {y} : {x+y} \")\n",
    "print(f\"Subtraction :  {x} - {y} : {x-y} \")\n",
    "print(f\"Multiplocation :  {x} * {y} : {x*y} \")\n",
    "print(f\"Division :  {x} / {y} : {x/y} \")"
   ]
  },
  {
   "cell_type": "code",
   "execution_count": 13,
   "id": "3e8b0cc4-5443-4c52-bf90-be820fc7c218",
   "metadata": {},
   "outputs": [
    {
     "name": "stdout",
     "output_type": "stream",
     "text": [
      "Id : 140723748597640\n"
     ]
    }
   ],
   "source": [
    "\n",
    "'''Working of function in python '''\n",
    "\n",
    "## 10\n",
    "num =100\n",
    "print(f\"Id : {id(num)}\")"
   ]
  },
  {
   "cell_type": "code",
   "execution_count": 14,
   "id": "d6ace894-f35e-411c-88da-cad4fab5eb69",
   "metadata": {},
   "outputs": [
    {
     "name": "stdout",
     "output_type": "stream",
     "text": [
      "Vlaue : True || Type : <class 'bool'>\n",
      "Vlaue : 100 || Type : <class 'int'>\n",
      "Vlaue : 45.3 || Type : <class 'float'>\n",
      "Vlaue : Python String || Type : <class 'str'>\n",
      "Vlaue : (3+4j) || Type : <class 'complex'>\n"
     ]
    }
   ],
   "source": [
    "\n",
    "##11\n",
    "\n",
    "bool = True\n",
    "number = 100\n",
    "float = 45.3\n",
    "string = 'Python String'\n",
    "x = complex(3,4)\n",
    "\n",
    "print(f\"Vlaue : {bool} || Type : {type(bool)}\")\n",
    "print(f\"Vlaue : {number} || Type : {type(number)}\")\n",
    "print(f\"Vlaue : {float} || Type : {type(float)}\")\n",
    "print(f\"Vlaue : {string} || Type : {type(string)}\")\n",
    "print(f\"Vlaue : {x} || Type : {type(x)}\")"
   ]
  },
  {
   "cell_type": "code",
   "execution_count": 15,
   "id": "21a3c3f4-f975-43cf-ac44-d8139496a381",
   "metadata": {},
   "outputs": [
    {
     "data": {
      "text/plain": [
       "'same as Q.11'"
      ]
     },
     "execution_count": 15,
     "metadata": {},
     "output_type": "execute_result"
    }
   ],
   "source": [
    "\n",
    "##12\n",
    "\n",
    "'''same as Q.11'''"
   ]
  },
  {
   "cell_type": "code",
   "execution_count": 17,
   "id": "bf56495b-8b2b-4647-bd37-2dfc968f1566",
   "metadata": {},
   "outputs": [
    {
     "name": "stdin",
     "output_type": "stream",
     "text": [
      "Enter String :  python programing\n"
     ]
    },
    {
     "name": "stdout",
     "output_type": "stream",
     "text": [
      "python programing is First 5 charecters print : python\n"
     ]
    }
   ],
   "source": [
    "\"\"\"String Slicing\"\"\"\n",
    "## 13\n",
    "\n",
    "string = input(\"Enter String : \")\n",
    "print(f\"{string} is First 5 charecters print : {string[0:6]}\")"
   ]
  },
  {
   "cell_type": "code",
   "execution_count": 22,
   "id": "f966f494-2a2b-4211-af18-8d1fb015b74b",
   "metadata": {},
   "outputs": [
    {
     "name": "stdin",
     "output_type": "stream",
     "text": [
      "Enter String :  swapnil kadam\n"
     ]
    },
    {
     "name": "stdout",
     "output_type": "stream",
     "text": [
      "swapnil kadam is last 5 charecters print : dam\n"
     ]
    }
   ],
   "source": [
    "\n",
    "## 14\n",
    "\n",
    "string = input(\"Enter String : \")\n",
    "print(f\"{string} is last 5 charecters print : {string[-3:]}\") "
   ]
  },
  {
   "cell_type": "code",
   "execution_count": 23,
   "id": "86b8055a-e520-4a2f-9cd2-d5d3499ec321",
   "metadata": {},
   "outputs": [
    {
     "name": "stdin",
     "output_type": "stream",
     "text": [
      "Enter String :  PCU collage\n"
     ]
    },
    {
     "name": "stdout",
     "output_type": "stream",
     "text": [
      "PCU collage is First 5 charecters print : U co\n"
     ]
    }
   ],
   "source": [
    "\n",
    "## 15\n",
    "\n",
    "string = input(\"Enter String : \")\n",
    "print(f\"{string} is First 5 charecters print : {string[2:6]}\")"
   ]
  },
  {
   "cell_type": "code",
   "execution_count": 25,
   "id": "2f919001-43f2-4486-9f3f-96d3dabe943c",
   "metadata": {},
   "outputs": [
    {
     "name": "stdin",
     "output_type": "stream",
     "text": [
      "Enter String :  abcdef\n"
     ]
    },
    {
     "name": "stdout",
     "output_type": "stream",
     "text": [
      "ace\n"
     ]
    }
   ],
   "source": [
    "\n",
    "## 16\n",
    "str = input(\"Enter String : \")\n",
    "print(str[::2])"
   ]
  },
  {
   "cell_type": "code",
   "execution_count": null,
   "id": "3c9bf74d-4970-458d-acd5-403ff942fe2a",
   "metadata": {},
   "outputs": [],
   "source": []
  }
 ],
 "metadata": {
  "kernelspec": {
   "display_name": "Python 3 (ipykernel)",
   "language": "python",
   "name": "python3"
  },
  "language_info": {
   "codemirror_mode": {
    "name": "ipython",
    "version": 3
   },
   "file_extension": ".py",
   "mimetype": "text/x-python",
   "name": "python",
   "nbconvert_exporter": "python",
   "pygments_lexer": "ipython3",
   "version": "3.11.4"
  }
 },
 "nbformat": 4,
 "nbformat_minor": 5
}
